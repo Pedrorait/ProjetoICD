{
 "cells": [
  {
   "cell_type": "markdown",
   "id": "ff4ffde3",
   "metadata": {},
   "source": [
    "# Projeto ICD\n",
    "## Dados de super heróis"
   ]
  },
  {
   "cell_type": "code",
   "execution_count": 2,
   "id": "fb74f299",
   "metadata": {},
   "outputs": [],
   "source": [
    "import pandas as pd\n",
    "import matplotlib\n",
    "\n",
    "heroes = pd.read_csv('dc-wikia-data.csv.txt')"
   ]
  },
  {
   "cell_type": "markdown",
   "id": "2573da28",
   "metadata": {},
   "source": [
    "### Aparições:"
   ]
  },
  {
   "cell_type": "code",
   "execution_count": 3,
   "id": "59810315",
   "metadata": {
    "scrolled": true
   },
   "outputs": [
    {
     "name": "stdout",
     "output_type": "stream",
     "text": [
      "Média: 23.62513377159456\n",
      "Mediana: 6.0\n",
      "Desvio Padrão 87.37850877836891\n"
     ]
    }
   ],
   "source": [
    "print('Média:', heroes.APPEARANCES.mean())\n",
    "print('Mediana:', heroes.APPEARANCES.median())\n",
    "print('Desvio Padrão', heroes.APPEARANCES.std())"
   ]
  },
  {
   "cell_type": "markdown",
   "id": "44d342a8",
   "metadata": {},
   "source": [
    "### Ano da primeira aparição"
   ]
  },
  {
   "cell_type": "code",
   "execution_count": 4,
   "id": "4cd91bc2",
   "metadata": {},
   "outputs": [
    {
     "name": "stdout",
     "output_type": "stream",
     "text": [
      "Média: 1990\n",
      "Mediana: 1992\n",
      "Desvio padrão: 17\n"
     ]
    }
   ],
   "source": [
    "print('Média:', round(heroes.YEAR.mean()))\n",
    "print('Mediana:', round(heroes.YEAR.median()))\n",
    "print('Desvio padrão:', round(heroes.YEAR.std()))"
   ]
  },
  {
   "cell_type": "markdown",
   "id": "ea8b647c",
   "metadata": {},
   "source": [
    "### Boxplots:"
   ]
  },
  {
   "cell_type": "markdown",
   "id": "0ef13e59",
   "metadata": {},
   "source": [
    "### Ano da primeira aparição"
   ]
  },
  {
   "cell_type": "code",
   "execution_count": 5,
   "id": "56238c6d",
   "metadata": {},
   "outputs": [
    {
     "data": {
      "text/plain": [
       "<AxesSubplot:>"
      ]
     },
     "execution_count": 5,
     "metadata": {},
     "output_type": "execute_result"
    },
    {
     "data": {
      "image/png": "[encoded data removed]",
      "text/plain": [
       "<Figure size 432x288 with 1 Axes>"
      ]
     },
     "metadata": {
      "needs_background": "light"
     },
     "output_type": "display_data"
    }
   ],
   "source": [
    "heroes.boxplot(column='YEAR')"
   ]
  },
  {
   "cell_type": "markdown",
   "id": "bc8bf55b",
   "metadata": {},
   "source": [
    "### Aparições:"
   ]
  },
  {
   "cell_type": "code",
   "execution_count": 6,
   "id": "d3cba747",
   "metadata": {},
   "outputs": [
    {
     "data": {
      "text/plain": [
       "<AxesSubplot:>"
      ]
     },
     "execution_count": 6,
     "metadata": {},
     "output_type": "execute_result"
    },
    {
     "data": {
      "image/png": "[encoded data removed]",
      "text/plain": [
       "<Figure size 432x288 with 1 Axes>"
      ]
     },
     "metadata": {
      "needs_background": "light"
     },
     "output_type": "display_data"
    }
   ],
   "source": [
    "heroes.boxplot(column='APPEARANCES')"
   ]
  },
  {
   "cell_type": "code",
   "execution_count": null,
   "id": "48d061b4",
   "metadata": {},
   "outputs": [],
   "source": []
  }
 ],
 "metadata": {
  "kernelspec": {
   "display_name": "Python 3",
   "language": "python",
   "name": "python3"
  },
  "language_info": {
   "codemirror_mode": {
    "name": "ipython",
    "version": 3
   },
   "file_extension": ".py",
   "mimetype": "text/x-python",
   "name": "python",
   "nbconvert_exporter": "python",
   "pygments_lexer": "ipython3",
   "version": "3.9.4"
  }
 },
 "nbformat": 4,
 "nbformat_minor": 5
}
